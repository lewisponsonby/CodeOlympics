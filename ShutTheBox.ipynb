{
 "cells": [
  {
   "cell_type": "code",
   "execution_count": 1,
   "id": "4e36e3c7",
   "metadata": {},
   "outputs": [],
   "source": [
    "import random\n",
    "import numpy as np\n",
    "from itertools import combinations\n",
    "import copy"
   ]
  },
  {
   "cell_type": "code",
   "execution_count": 2,
   "id": "54414793",
   "metadata": {},
   "outputs": [],
   "source": [
    "class State:\n",
    "    def __init__(self, dice, N, depth, children=[]):\n",
    "        self.dice = dice\n",
    "        self.N = N\n",
    "        self.boxes = np.array(list(range(1,N+1)))\n",
    "        self.open_closed = np.array([0 for i in range(N)])\n",
    "        self.score = self.get_score()\n",
    "        self.children = children\n",
    "        self.depth = depth\n",
    "        \n",
    "    def roll_once(self):\n",
    "        return random.randint(1,6)\n",
    "    \n",
    "    def roll_twice(self):\n",
    "        return np.sum([random.randint(1,6),random.randint(1,6)])\n",
    "    \n",
    "    def get_options(self,roll):\n",
    "        options=[]\n",
    "        if np.min(self.open_closed)==1:\n",
    "            return options\n",
    "        open_indexes=np.where(self.open_closed==0)[0]\n",
    "        for r in range(1,self.N):\n",
    "            for combination in combinations(open_indexes,r):\n",
    "                if np.sum(combination)+3==roll:\n",
    "                    options.append(combination)\n",
    "        for i in open_indexes:\n",
    "            if self.boxes[i]==roll:\n",
    "                options.append([i])\n",
    "        return options\n",
    "    \n",
    "    def close_boxes(self,indexes):\n",
    "        for index in indexes:\n",
    "            self.open_closed[index]=1\n",
    "            \n",
    "    def get_score(self):\n",
    "        score=0\n",
    "        for i in range(self.N):\n",
    "            if self.open_closed[i]==0:\n",
    "                score+=self.boxes[i]\n",
    "        return score\n",
    "        "
   ]
  },
  {
   "cell_type": "code",
   "execution_count": 7,
   "id": "f3e2030f",
   "metadata": {},
   "outputs": [],
   "source": [
    "def ExploreChildNodes(state):\n",
    "    roll=state.roll_once()\n",
    "    options=state.get_options(roll)\n",
    "    if state.depth<max_depth and len(options)>0:\n",
    "        for option in options:\n",
    "            new_state=copy.deepcopy(state)\n",
    "            new_state.depth=state.depth+1\n",
    "            new_state.close_boxes(option)\n",
    "            state.children.append(new_state)\n",
    "            ExploreChildNodes(new_state)\n",
    "    else:\n",
    "        print(state.get_score(),state.get_options(roll))"
   ]
  },
  {
   "cell_type": "code",
   "execution_count": null,
   "id": "d13d5958",
   "metadata": {},
   "outputs": [
    {
     "name": "stdout",
     "output_type": "stream",
     "text": [
      "18 []\n",
      "14 []\n",
      "11 []\n"
     ]
    }
   ],
   "source": [
    "init = State(1,6,0)\n",
    "max_depth = 8\n",
    "ExploreChildNodes(init)"
   ]
  },
  {
   "cell_type": "code",
   "execution_count": null,
   "id": "583ba15a",
   "metadata": {},
   "outputs": [],
   "source": []
  },
  {
   "cell_type": "code",
   "execution_count": null,
   "id": "19ee817f",
   "metadata": {},
   "outputs": [],
   "source": []
  }
 ],
 "metadata": {
  "kernelspec": {
   "display_name": "Python 3 (ipykernel)",
   "language": "python",
   "name": "python3"
  },
  "language_info": {
   "codemirror_mode": {
    "name": "ipython",
    "version": 3
   },
   "file_extension": ".py",
   "mimetype": "text/x-python",
   "name": "python",
   "nbconvert_exporter": "python",
   "pygments_lexer": "ipython3",
   "version": "3.9.12"
  }
 },
 "nbformat": 4,
 "nbformat_minor": 5
}
