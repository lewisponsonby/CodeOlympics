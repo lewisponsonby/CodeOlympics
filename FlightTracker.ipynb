{
 "cells": [
  {
   "cell_type": "code",
   "execution_count": 1,
   "id": "70c3cb08",
   "metadata": {},
   "outputs": [],
   "source": [
    "import requests\n",
    "from bs4 import BeautifulSoup\n",
    "from FlightRadar24.api import FlightRadar24API\n",
    "from geopy.geocoders import Nominatim\n",
    "fr_api = FlightRadar24API()"
   ]
  },
  {
   "cell_type": "code",
   "execution_count": 2,
   "id": "d5a77f78",
   "metadata": {},
   "outputs": [],
   "source": [
    "def flightNumFinder(flight_num):\n",
    "    flight_url=\"https://www.radarbox.com/data/flights/\"+flight_num\n",
    "    r = requests.get(flight_url)\n",
    "    soup = BeautifulSoup(r.content, 'html.parser')\n",
    "    airline_name=\"\".join(list(str(soup.find('title')).split(\"-\")[1])[1:-1]).replace(\".com\",\"\")\n",
    "    try:\n",
    "        airline = [airline for airline in fr_api.get_airlines() if airline_name in str(airline)][0]\n",
    "    except:\n",
    "        print(\"Flight not found!\")\n",
    "        return None\n",
    "    for airline in fr_api.get_airlines():\n",
    "        if airline['Name']==airline_name:\n",
    "            airline_icao=airline['ICAO']\n",
    "    for flight in fr_api.get_flights(airline=airline_icao):\n",
    "        if flight.callsign == flight_num:\n",
    "            found_flight=flight\n",
    "    geolocator = Nominatim(user_agent=\"coordinateconverter\")\n",
    "    location = geolocator.reverse(str(found_flight.latitude)+\",\"+str(found_flight.longitude))\n",
    "    print(\"Flight Number {0} - Travelling from {1} to {2} - Current coordinates: {3},{4}\".format(flight_num,found_flight.origin_airport_iata,found_flight.destination_airport_iata,found_flight.latitude,found_flight.longitude))\n",
    "    print(\"Current Location: {0}\".format(location))"
   ]
  },
  {
   "cell_type": "code",
   "execution_count": 3,
   "id": "72ae078e",
   "metadata": {},
   "outputs": [],
   "source": [
    "def flightRegFinder(flight_reg):\n",
    "    flight_url=\"https://www.radarbox.com/data/registration/\"+flight_reg\n",
    "    r = requests.get(flight_url)\n",
    "    soup = BeautifulSoup(r.content, 'html.parser')\n",
    "    airline_name=str(soup.find('title')).split(\"-\")[5][1:-1].replace(\".com\",\"\")\n",
    "    try:\n",
    "        airline = [airline for airline in fr_api.get_airlines() if airline_name in str(airline)][0]\n",
    "    except:\n",
    "        print(\"Flight not found!\")\n",
    "        return None\n",
    "    for airline in fr_api.get_airlines():\n",
    "        if airline['Name']==airline_name:\n",
    "            airline_icao=airline['ICAO']\n",
    "    for flight in fr_api.get_flights(airline=airline_icao):\n",
    "        if flight.registration == flight_reg:\n",
    "            found_flight=flight\n",
    "    geolocator = Nominatim(user_agent=\"coordinateconverter\")\n",
    "    location = geolocator.reverse(str(found_flight.latitude)+\",\"+str(found_flight.longitude))\n",
    "    print(\"Flight Registration {0} - Travelling from {1} to {2} - Current coordinates: {3},{4}\".format(flight_reg,found_flight.origin_airport_iata,found_flight.destination_airport_iata,found_flight.latitude,found_flight.longitude))\n",
    "    print(\"Current Location: {0}\".format(location))"
   ]
  },
  {
   "cell_type": "code",
   "execution_count": 4,
   "id": "a36a0be5",
   "metadata": {},
   "outputs": [
    {
     "name": "stdout",
     "output_type": "stream",
     "text": [
      "Flight Registration OH-LKI - Travelling from DUB to HEL - Current coordinates: 60.0451,19.0487\n",
      "Current Location: Norrtälje kommun, Stockholms län, Sverige\n"
     ]
    }
   ],
   "source": [
    "flightRegFinder(\"OH-LKI\")"
   ]
  },
  {
   "cell_type": "code",
   "execution_count": 5,
   "id": "21a23317",
   "metadata": {},
   "outputs": [
    {
     "name": "stdout",
     "output_type": "stream",
     "text": [
      "Flight Number FLI459 - Travelling from CPH to FAE - Current coordinates: 60.805,0.5858\n",
      "Current Location: None\n"
     ]
    }
   ],
   "source": [
    "flightNumFinder(\"FLI459\")"
   ]
  },
  {
   "cell_type": "code",
   "execution_count": null,
   "id": "9d74ad48",
   "metadata": {},
   "outputs": [],
   "source": []
  }
 ],
 "metadata": {
  "kernelspec": {
   "display_name": "Python 3 (ipykernel)",
   "language": "python",
   "name": "python3"
  },
  "language_info": {
   "codemirror_mode": {
    "name": "ipython",
    "version": 3
   },
   "file_extension": ".py",
   "mimetype": "text/x-python",
   "name": "python",
   "nbconvert_exporter": "python",
   "pygments_lexer": "ipython3",
   "version": "3.9.12"
  }
 },
 "nbformat": 4,
 "nbformat_minor": 5
}
