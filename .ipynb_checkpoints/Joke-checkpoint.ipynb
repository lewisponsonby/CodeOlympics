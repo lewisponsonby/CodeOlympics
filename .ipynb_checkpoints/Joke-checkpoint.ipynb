{
 "cells": [
  {
   "cell_type": "code",
   "execution_count": 17,
   "id": "eed56ec7",
   "metadata": {},
   "outputs": [],
   "source": [
    "import requests\n",
    "import random\n",
    "from tkinter import *\n",
    "from playsound import playsound\n",
    " \n",
    "\n",
    "word_site = \"https://www.mit.edu/~ecprice/wordlist.10000\"\n",
    "\n",
    "response = requests.get(word_site)\n",
    "WORDS = response.content.splitlines()"
   ]
  },
  {
   "cell_type": "code",
   "execution_count": 20,
   "id": "d17cb27a",
   "metadata": {},
   "outputs": [],
   "source": [
    "def randomWord():\n",
    "    return str(random.choice(WORDS))[2:-1]\n",
    "    \n",
    "def Joke():\n",
    "    print(\"Knock knock!\")\n",
    "    reply = input(\"Reply:\")\n",
    "    word=randomWord()\n",
    "    print(word)\n",
    "    reply = input(\"Reply:\")\n",
    "    new_word=randomWord()\n",
    "\n",
    "    #Create an instance of tkinter frame\n",
    "    win = Tk()\n",
    "\n",
    "    #Set the geometry\n",
    "    win.geometry(\"750x280\")\n",
    "\n",
    "    #Create a canvas object\n",
    "    canvas= Canvas(win, width= 1000, height= 750, bg=\"SpringGreen2\")\n",
    "\n",
    "    #Add a text in Canvas\n",
    "    canvas.create_text(300, 50, text=(word,new_word), fill=\"black\", font=('Helvetica 15 bold'))\n",
    "    canvas.pack()\n",
    "    win.after(0, song)\n",
    "    win.mainloop()\n",
    "    \n",
    "def song():\n",
    "    playsound('song.mp3',False)"
   ]
  },
  {
   "cell_type": "code",
   "execution_count": 21,
   "id": "d3a6bf01",
   "metadata": {},
   "outputs": [
    {
     "name": "stdout",
     "output_type": "stream",
     "text": [
      "Knock knock!\n",
      "Reply:whos there\n",
      "slot\n",
      "Reply:slot who\n"
     ]
    }
   ],
   "source": [
    "Joke()"
   ]
  },
  {
   "cell_type": "code",
   "execution_count": null,
   "id": "c77eb0eb",
   "metadata": {},
   "outputs": [],
   "source": []
  }
 ],
 "metadata": {
  "kernelspec": {
   "display_name": "Python 3 (ipykernel)",
   "language": "python",
   "name": "python3"
  },
  "language_info": {
   "codemirror_mode": {
    "name": "ipython",
    "version": 3
   },
   "file_extension": ".py",
   "mimetype": "text/x-python",
   "name": "python",
   "nbconvert_exporter": "python",
   "pygments_lexer": "ipython3",
   "version": "3.9.12"
  }
 },
 "nbformat": 4,
 "nbformat_minor": 5
}
