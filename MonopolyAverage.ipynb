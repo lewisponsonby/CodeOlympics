{
 "cells": [
  {
   "cell_type": "code",
   "execution_count": 1,
   "id": "b8e14cfe",
   "metadata": {},
   "outputs": [],
   "source": [
    "import numpy as np\n",
    "import matplotlib.pyplot as plt"
   ]
  },
  {
   "cell_type": "code",
   "execution_count": 2,
   "id": "b64830f2",
   "metadata": {},
   "outputs": [],
   "source": [
    "def Monopoly(board,pos=0,rolls=0):\n",
    "    while np.min(board)==0: \n",
    "        roll=np.random.randint(1,6,2)\n",
    "        pos+=np.sum(roll)\n",
    "        if pos>39:\n",
    "            pos-=40\n",
    "        board[pos]=1\n",
    "        rolls+=1\n",
    "    return rolls"
   ]
  },
  {
   "cell_type": "code",
   "execution_count": 3,
   "id": "eef9ee9b",
   "metadata": {},
   "outputs": [],
   "source": [
    "results = []\n",
    "for i in range(10000):\n",
    "    board=np.zeros(40)\n",
    "    board[0]=1\n",
    "    results.append(Monopoly(board))\n",
    "results=np.array(results)"
   ]
  },
  {
   "cell_type": "code",
   "execution_count": 10,
   "id": "72369355",
   "metadata": {},
   "outputs": [
    {
     "data": {
      "image/png": "[encoded data removed]",
      "text/plain": [
       "<Figure size 432x288 with 1 Axes>"
      ]
     },
     "metadata": {
      "needs_background": "light"
     },
     "output_type": "display_data"
    }
   ],
   "source": [
    "plt.hist(results, bins=100)\n",
    "plt.xlabel(\"Number of rolls\")\n",
    "plt.show() "
   ]
  },
  {
   "cell_type": "code",
   "execution_count": 5,
   "id": "efb1fa88",
   "metadata": {},
   "outputs": [
    {
     "data": {
      "text/plain": [
       "157.3488"
      ]
     },
     "execution_count": 5,
     "metadata": {},
     "output_type": "execute_result"
    }
   ],
   "source": [
    "np.mean(results)"
   ]
  },
  {
   "cell_type": "code",
   "execution_count": null,
   "id": "d772973c",
   "metadata": {},
   "outputs": [],
   "source": []
  }
 ],
 "metadata": {
  "kernelspec": {
   "display_name": "Python 3 (ipykernel)",
   "language": "python",
   "name": "python3"
  },
  "language_info": {
   "codemirror_mode": {
    "name": "ipython",
    "version": 3
   },
   "file_extension": ".py",
   "mimetype": "text/x-python",
   "name": "python",
   "nbconvert_exporter": "python",
   "pygments_lexer": "ipython3",
   "version": "3.9.12"
  }
 },
 "nbformat": 4,
 "nbformat_minor": 5
}
